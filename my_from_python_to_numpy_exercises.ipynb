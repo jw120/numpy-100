{
 "cells": [
  {
   "cell_type": "markdown",
   "id": "loving-argentina",
   "metadata": {},
   "source": [
    "# From Python to Numpy\n",
    "\n",
    "My solutions to the exercises from the book [From Python to NumPy](http://www.labri.fr/perso/nrougier/from-python-to-numpy/).\n"
   ]
  },
  {
   "cell_type": "code",
   "execution_count": 1,
   "id": "caroline-iceland",
   "metadata": {},
   "outputs": [],
   "source": [
    "import numpy as np"
   ]
  },
  {
   "cell_type": "markdown",
   "id": "relevant-prisoner",
   "metadata": {},
   "source": [
    "## Chapter 3: Anatomy of an array"
   ]
  },
  {
   "cell_type": "markdown",
   "id": "recognized-thesis",
   "metadata": {},
   "source": [
    "Given two vectors `Z1` and `Z2`. We would like to know if `Z2` is a view of `Z1` and if yes, what is this view ?"
   ]
  },
  {
   "cell_type": "code",
   "execution_count": 2,
   "id": "middle-window",
   "metadata": {},
   "outputs": [],
   "source": [
    "def is_view(Z1, Z2):\n",
    "    if Z2.base is not Z1:\n",
    "        return None\n",
    "    if len(Z1.shape) != 1:\n",
    "        RuntimeError(\"Can only handle 1-dimensional arrays\")\n",
    "    step = (\n",
    "        Z2.strides[0] // Z1.strides[0]\n",
    "    )  # Ratio of number of byte's in each array's stride\n",
    "    Z1_first, Z1_after = np.byte_bounds(Z1)\n",
    "    Z2_first, Z2_after = np.byte_bounds(Z2)\n",
    "    first = (\n",
    "        Z2_first - Z1_first\n",
    "    ) // Z1.itemsize  # Array index into Z1 of first byte of Z2\n",
    "    after = (\n",
    "        Z2_after - Z1_first\n",
    "    ) // Z1.itemsize  # Array index into Z2 of byte after the end of Z2\n",
    "    if step > 0:\n",
    "        return (first, after, step)\n",
    "    else:\n",
    "        return (after - 1, first - 1, step)"
   ]
  },
  {
   "cell_type": "markdown",
   "id": "vital-drain",
   "metadata": {},
   "source": [
    "Test from text"
   ]
  },
  {
   "cell_type": "code",
   "execution_count": 3,
   "id": "latin-family",
   "metadata": {},
   "outputs": [],
   "source": [
    "T0 = np.arange(10)\n",
    "T1 = T0[1:-1:2]\n",
    "T2 = T0[6:2:-1]\n",
    "assert is_view(T0, T1) == (1, 8, 2)\n",
    "assert is_view(T0, T2) == (6, 2, -1)"
   ]
  },
  {
   "cell_type": "markdown",
   "id": "friendly-composition",
   "metadata": {},
   "source": [
    "Now a version that can handle multi-dimensional arrays"
   ]
  },
  {
   "cell_type": "code",
   "execution_count": 4,
   "id": "double-master",
   "metadata": {},
   "outputs": [],
   "source": [
    "def is_view_multi(Z1, Z2):\n",
    "    return \"NYI\""
   ]
  },
  {
   "cell_type": "markdown",
   "id": "seven-needle",
   "metadata": {},
   "source": [
    "Tests from solution"
   ]
  },
  {
   "cell_type": "code",
   "execution_count": 5,
   "id": "wicked-january",
   "metadata": {},
   "outputs": [
    {
     "ename": "NameError",
     "evalue": "name 'NYI' is not defined",
     "output_type": "error",
     "traceback": [
      "\u001b[0;31m---------------------------------------------------------------------------\u001b[0m",
      "\u001b[0;31mNameError\u001b[0m                                 Traceback (most recent call last)",
      "\u001b[0;32m<ipython-input-5-943f983f8978>\u001b[0m in \u001b[0;36m<module>\u001b[0;34m\u001b[0m\n\u001b[1;32m      1\u001b[0m \u001b[0mT0\u001b[0m \u001b[0;34m=\u001b[0m \u001b[0mnp\u001b[0m\u001b[0;34m.\u001b[0m\u001b[0marange\u001b[0m\u001b[0;34m(\u001b[0m\u001b[0;36m5\u001b[0m\u001b[0;34m*\u001b[0m\u001b[0;36m5\u001b[0m\u001b[0;34m)\u001b[0m\u001b[0;34m.\u001b[0m\u001b[0mreshape\u001b[0m\u001b[0;34m(\u001b[0m\u001b[0;36m5\u001b[0m\u001b[0;34m,\u001b[0m\u001b[0;36m5\u001b[0m\u001b[0;34m)\u001b[0m\u001b[0;34m\u001b[0m\u001b[0;34m\u001b[0m\u001b[0m\n\u001b[1;32m      2\u001b[0m \u001b[0mT1\u001b[0m \u001b[0;34m=\u001b[0m \u001b[0mT0\u001b[0m\u001b[0;34m[\u001b[0m\u001b[0;36m1\u001b[0m\u001b[0;34m:\u001b[0m\u001b[0;34m-\u001b[0m\u001b[0;36m1\u001b[0m\u001b[0;34m,\u001b[0m\u001b[0;36m1\u001b[0m\u001b[0;34m:\u001b[0m\u001b[0;34m-\u001b[0m\u001b[0;36m1\u001b[0m\u001b[0;34m]\u001b[0m\u001b[0;34m\u001b[0m\u001b[0;34m\u001b[0m\u001b[0m\n\u001b[0;32m----> 3\u001b[0;31m \u001b[0;32massert\u001b[0m \u001b[0mnp\u001b[0m\u001b[0;34m.\u001b[0m\u001b[0mallclose\u001b[0m\u001b[0;34m(\u001b[0m\u001b[0mT1\u001b[0m\u001b[0;34m,\u001b[0m \u001b[0meval\u001b[0m\u001b[0;34m(\u001b[0m\u001b[0;34mf\"T0[{is_view_multi(T0, T1)}]\"\u001b[0m\u001b[0;34m)\u001b[0m\u001b[0;34m)\u001b[0m\u001b[0;34m\u001b[0m\u001b[0;34m\u001b[0m\u001b[0m\n\u001b[0m",
      "\u001b[0;32m<string>\u001b[0m in \u001b[0;36m<module>\u001b[0;34m\u001b[0m\n",
      "\u001b[0;31mNameError\u001b[0m: name 'NYI' is not defined"
     ]
    }
   ],
   "source": [
    "T0 = np.arange(5 * 5).reshape(5, 5)\n",
    "T1 = T0[1:-1, 1:-1]\n",
    "assert np.allclose(T1, eval(f\"T0[{is_view_multi(T0, T1)}]\"))"
   ]
  }
 ],
 "metadata": {
  "kernelspec": {
   "display_name": "Python 3",
   "language": "python",
   "name": "python3"
  },
  "language_info": {
   "codemirror_mode": {
    "name": "ipython",
    "version": 3
   },
   "file_extension": ".py",
   "mimetype": "text/x-python",
   "name": "python",
   "nbconvert_exporter": "python",
   "pygments_lexer": "ipython3",
   "version": "3.9.1"
  }
 },
 "nbformat": 4,
 "nbformat_minor": 5
}
